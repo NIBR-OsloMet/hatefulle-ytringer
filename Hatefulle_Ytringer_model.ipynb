{
  "nbformat": 4,
  "nbformat_minor": 0,
  "metadata": {
    "colab": {
      "name": "Hatefulle Ytringer model.ipynb",
      "provenance": [],
      "collapsed_sections": []
    },
    "kernelspec": {
      "name": "python3",
      "display_name": "Python 3"
    },
    "language_info": {
      "name": "python"
    }
  },
  "cells": [
    {
      "cell_type": "markdown",
      "source": [
        "# import necessary packages"
      ],
      "metadata": {
        "id": "COIaQep43Zpx"
      }
    },
    {
      "cell_type": "code",
      "metadata": {
        "id": "24Auozc7BcT2",
        "colab": {
          "base_uri": "https://localhost:8080/"
        },
        "outputId": "ff1b55bd-ac8e-4303-f4b9-cd6ed9874f8f"
      },
      "source": [
        "import numpy as np\n",
        "import pandas as pd\n",
        "import matplotlib.pyplot as plt\n",
        "import string\n",
        "import re\n",
        "import os\n",
        "import json\n",
        "import math\n",
        "import shutil\n",
        "import datetime\n",
        "from tqdm import tqdm_notebook\n",
        "\n",
        "from collections import Counter\n",
        "import nltk\n",
        "from nltk.corpus import stopwords\n",
        "nltk.download('stopwords')\n",
        "\n",
        "import tensorflow as tf\n",
        "from tensorflow.keras.preprocessing.text import Tokenizer, tokenizer_from_json\n",
        "from tensorflow.keras.preprocessing.sequence import pad_sequences\n",
        "from tensorflow.keras.layers import Embedding, Dense, GlobalAveragePooling1D, LSTM, Conv1D, Input\n",
        "from tensorflow.keras.models import Sequential\n",
        "from tensorflow.keras.callbacks import ModelCheckpoint\n",
        "\n",
        "from sklearn.model_selection import train_test_split\n",
        "from sklearn.metrics import confusion_matrix, classification_report, precision_score, recall_score, f1_score, accuracy_score\n",
        "from sklearn.metrics import roc_curve, roc_auc_score\n",
        "from sklearn.utils import class_weight"
      ],
      "execution_count": null,
      "outputs": [
        {
          "output_type": "stream",
          "name": "stdout",
          "text": [
            "[nltk_data] Downloading package stopwords to /root/nltk_data...\n",
            "[nltk_data]   Unzipping corpora/stopwords.zip.\n"
          ]
        }
      ]
    },
    {
      "cell_type": "markdown",
      "metadata": {
        "id": "AZ7bUQbtB_b2"
      },
      "source": [
        "# Mount drive"
      ]
    },
    {
      "cell_type": "code",
      "metadata": {
        "colab": {
          "base_uri": "https://localhost:8080/"
        },
        "id": "Q-hQWh7Tij-6",
        "outputId": "1a7e860d-1745-4250-c090-98869ad45668"
      },
      "source": [
        "from google.colab import drive\n",
        "drive.mount('/content/drive')"
      ],
      "execution_count": null,
      "outputs": [
        {
          "output_type": "stream",
          "name": "stdout",
          "text": [
            "Mounted at /content/drive\n"
          ]
        }
      ]
    },
    {
      "cell_type": "markdown",
      "metadata": {
        "id": "h7qEA26wCDvV"
      },
      "source": [
        "# Load data"
      ]
    },
    {
      "cell_type": "code",
      "metadata": {
        "id": "JeTKPwrFvGSL"
      },
      "source": [
        "# define folder path\n",
        "path = '/content/drive/My Drive/Hatefulle Ytringer Models/'"
      ],
      "execution_count": null,
      "outputs": []
    },
    {
      "cell_type": "code",
      "metadata": {
        "colab": {
          "base_uri": "https://localhost:8080/",
          "height": 419
        },
        "id": "hD8wtVa8BvRX",
        "outputId": "e423c667-123e-4200-aafa-101717b5c755"
      },
      "source": [
        "# Read datafile\n",
        "Text_df = pd.read_csv(path+'models/Models 04_10_2021/all_data_used_04_10_2021_revised.csv', sep=',', usecols=['text', 'classification']  ,encoding = \"UTF-8\")\n",
        "Text_df"
      ],
      "execution_count": null,
      "outputs": [
        {
          "output_type": "execute_result",
          "data": {
            "text/html": [
              "\n",
              "  <div id=\"df-6ca76254-b5ea-4638-b469-0a6f592600cc\">\n",
              "    <div class=\"colab-df-container\">\n",
              "      <div>\n",
              "<style scoped>\n",
              "    .dataframe tbody tr th:only-of-type {\n",
              "        vertical-align: middle;\n",
              "    }\n",
              "\n",
              "    .dataframe tbody tr th {\n",
              "        vertical-align: top;\n",
              "    }\n",
              "\n",
              "    .dataframe thead th {\n",
              "        text-align: right;\n",
              "    }\n",
              "</style>\n",
              "<table border=\"1\" class=\"dataframe\">\n",
              "  <thead>\n",
              "    <tr style=\"text-align: right;\">\n",
              "      <th></th>\n",
              "      <th>text</th>\n",
              "      <th>classification</th>\n",
              "    </tr>\n",
              "  </thead>\n",
              "  <tbody>\n",
              "    <tr>\n",
              "      <th>0</th>\n",
              "      <td>det som er trist er å finne på begreper som sn...</td>\n",
              "      <td>1</td>\n",
              "    </tr>\n",
              "    <tr>\n",
              "      <th>1</th>\n",
              "      <td>så sier mannen som for noen måneder siden utta...</td>\n",
              "      <td>1</td>\n",
              "    </tr>\n",
              "    <tr>\n",
              "      <th>2</th>\n",
              "      <td>frps sterkeste kort i valgkampen 2011</td>\n",
              "      <td>1</td>\n",
              "    </tr>\n",
              "    <tr>\n",
              "      <th>3</th>\n",
              "      <td>ang snikislamisering: dette var, så vidt jeg v...</td>\n",
              "      <td>1</td>\n",
              "    </tr>\n",
              "    <tr>\n",
              "      <th>4</th>\n",
              "      <td>awais aslam: nok en gang bruker og forsvarer l...</td>\n",
              "      <td>1</td>\n",
              "    </tr>\n",
              "    <tr>\n",
              "      <th>...</th>\n",
              "      <td>...</td>\n",
              "      <td>...</td>\n",
              "    </tr>\n",
              "    <tr>\n",
              "      <th>3272</th>\n",
              "      <td>@aft_meninger Utenom i alle muslimske land i h...</td>\n",
              "      <td>1</td>\n",
              "    </tr>\n",
              "    <tr>\n",
              "      <th>3273</th>\n",
              "      <td>@Aftenposten Ja, vi trenger helt klart mer ter...</td>\n",
              "      <td>0</td>\n",
              "    </tr>\n",
              "    <tr>\n",
              "      <th>3274</th>\n",
              "      <td>@aft_meninger @jasnoen @tetzschner Altfor mang...</td>\n",
              "      <td>1</td>\n",
              "    </tr>\n",
              "    <tr>\n",
              "      <th>3275</th>\n",
              "      <td>@vgnett hvorfor ikke betale privatpersoner for...</td>\n",
              "      <td>1</td>\n",
              "    </tr>\n",
              "    <tr>\n",
              "      <th>3276</th>\n",
              "      <td>@vaartland @AlfGjosund ....jeg er positv til m...</td>\n",
              "      <td>1</td>\n",
              "    </tr>\n",
              "  </tbody>\n",
              "</table>\n",
              "<p>3277 rows × 2 columns</p>\n",
              "</div>\n",
              "      <button class=\"colab-df-convert\" onclick=\"convertToInteractive('df-6ca76254-b5ea-4638-b469-0a6f592600cc')\"\n",
              "              title=\"Convert this dataframe to an interactive table.\"\n",
              "              style=\"display:none;\">\n",
              "        \n",
              "  <svg xmlns=\"http://www.w3.org/2000/svg\" height=\"24px\"viewBox=\"0 0 24 24\"\n",
              "       width=\"24px\">\n",
              "    <path d=\"M0 0h24v24H0V0z\" fill=\"none\"/>\n",
              "    <path d=\"M18.56 5.44l.94 2.06.94-2.06 2.06-.94-2.06-.94-.94-2.06-.94 2.06-2.06.94zm-11 1L8.5 8.5l.94-2.06 2.06-.94-2.06-.94L8.5 2.5l-.94 2.06-2.06.94zm10 10l.94 2.06.94-2.06 2.06-.94-2.06-.94-.94-2.06-.94 2.06-2.06.94z\"/><path d=\"M17.41 7.96l-1.37-1.37c-.4-.4-.92-.59-1.43-.59-.52 0-1.04.2-1.43.59L10.3 9.45l-7.72 7.72c-.78.78-.78 2.05 0 2.83L4 21.41c.39.39.9.59 1.41.59.51 0 1.02-.2 1.41-.59l7.78-7.78 2.81-2.81c.8-.78.8-2.07 0-2.86zM5.41 20L4 18.59l7.72-7.72 1.47 1.35L5.41 20z\"/>\n",
              "  </svg>\n",
              "      </button>\n",
              "      \n",
              "  <style>\n",
              "    .colab-df-container {\n",
              "      display:flex;\n",
              "      flex-wrap:wrap;\n",
              "      gap: 12px;\n",
              "    }\n",
              "\n",
              "    .colab-df-convert {\n",
              "      background-color: #E8F0FE;\n",
              "      border: none;\n",
              "      border-radius: 50%;\n",
              "      cursor: pointer;\n",
              "      display: none;\n",
              "      fill: #1967D2;\n",
              "      height: 32px;\n",
              "      padding: 0 0 0 0;\n",
              "      width: 32px;\n",
              "    }\n",
              "\n",
              "    .colab-df-convert:hover {\n",
              "      background-color: #E2EBFA;\n",
              "      box-shadow: 0px 1px 2px rgba(60, 64, 67, 0.3), 0px 1px 3px 1px rgba(60, 64, 67, 0.15);\n",
              "      fill: #174EA6;\n",
              "    }\n",
              "\n",
              "    [theme=dark] .colab-df-convert {\n",
              "      background-color: #3B4455;\n",
              "      fill: #D2E3FC;\n",
              "    }\n",
              "\n",
              "    [theme=dark] .colab-df-convert:hover {\n",
              "      background-color: #434B5C;\n",
              "      box-shadow: 0px 1px 3px 1px rgba(0, 0, 0, 0.15);\n",
              "      filter: drop-shadow(0px 1px 2px rgba(0, 0, 0, 0.3));\n",
              "      fill: #FFFFFF;\n",
              "    }\n",
              "  </style>\n",
              "\n",
              "      <script>\n",
              "        const buttonEl =\n",
              "          document.querySelector('#df-6ca76254-b5ea-4638-b469-0a6f592600cc button.colab-df-convert');\n",
              "        buttonEl.style.display =\n",
              "          google.colab.kernel.accessAllowed ? 'block' : 'none';\n",
              "\n",
              "        async function convertToInteractive(key) {\n",
              "          const element = document.querySelector('#df-6ca76254-b5ea-4638-b469-0a6f592600cc');\n",
              "          const dataTable =\n",
              "            await google.colab.kernel.invokeFunction('convertToInteractive',\n",
              "                                                     [key], {});\n",
              "          if (!dataTable) return;\n",
              "\n",
              "          const docLinkHtml = 'Like what you see? Visit the ' +\n",
              "            '<a target=\"_blank\" href=https://colab.research.google.com/notebooks/data_table.ipynb>data table notebook</a>'\n",
              "            + ' to learn more about interactive tables.';\n",
              "          element.innerHTML = '';\n",
              "          dataTable['output_type'] = 'display_data';\n",
              "          await google.colab.output.renderOutput(dataTable, element);\n",
              "          const docLink = document.createElement('div');\n",
              "          docLink.innerHTML = docLinkHtml;\n",
              "          element.appendChild(docLink);\n",
              "        }\n",
              "      </script>\n",
              "    </div>\n",
              "  </div>\n",
              "  "
            ],
            "text/plain": [
              "                                                   text  classification\n",
              "0     det som er trist er å finne på begreper som sn...               1\n",
              "1     så sier mannen som for noen måneder siden utta...               1\n",
              "2                 frps sterkeste kort i valgkampen 2011               1\n",
              "3     ang snikislamisering: dette var, så vidt jeg v...               1\n",
              "4     awais aslam: nok en gang bruker og forsvarer l...               1\n",
              "...                                                 ...             ...\n",
              "3272  @aft_meninger Utenom i alle muslimske land i h...               1\n",
              "3273  @Aftenposten Ja, vi trenger helt klart mer ter...               0\n",
              "3274  @aft_meninger @jasnoen @tetzschner Altfor mang...               1\n",
              "3275  @vgnett hvorfor ikke betale privatpersoner for...               1\n",
              "3276  @vaartland @AlfGjosund ....jeg er positv til m...               1\n",
              "\n",
              "[3277 rows x 2 columns]"
            ]
          },
          "metadata": {},
          "execution_count": 4
        }
      ]
    },
    {
      "cell_type": "markdown",
      "metadata": {
        "id": "79odQrq0CGJ4"
      },
      "source": [
        "# check data records"
      ]
    },
    {
      "cell_type": "code",
      "metadata": {
        "colab": {
          "base_uri": "https://localhost:8080/"
        },
        "id": "7hUKI8zIB7ko",
        "outputId": "ef7da982-657c-4297-e987-73ea2e90a6fc"
      },
      "source": [
        "# number of records belongs to each class\n",
        "Text_df['classification'].value_counts()"
      ],
      "execution_count": null,
      "outputs": [
        {
          "output_type": "execute_result",
          "data": {
            "text/plain": [
              "1    2471\n",
              "0     806\n",
              "Name: classification, dtype: int64"
            ]
          },
          "metadata": {},
          "execution_count": 5
        }
      ]
    },
    {
      "cell_type": "markdown",
      "source": [
        "# Define function to perform preprocessing of data"
      ],
      "metadata": {
        "id": "Jw70FJA74VSD"
      }
    },
    {
      "cell_type": "code",
      "metadata": {
        "id": "M-uQb3tmCWEo"
      },
      "source": [
        "def process_tweet(df):\n",
        "    '''\n",
        "    Input: \n",
        "        df: a dataframe containing a column 'text' of strings of tweets\n",
        "    Output:\n",
        "        df with a column 'tweets_clean'\n",
        "    \n",
        "    '''\n",
        "    #remove URL\n",
        "    df['tweet_proc'] = df['text'].str.replace(r'http(\\S)+', r'')\n",
        "    df['tweet_proc'] = df['tweet_proc'].str.replace(r'http ...', r'')\n",
        "    df['tweet_proc'] = df['tweet_proc'].str.replace(r'http', r'')\n",
        "    df[df['tweet_proc'].str.contains(r'http')]\n",
        "\n",
        "    # remove RT, @\n",
        "    df['tweet_proc'] = df['tweet_proc'].str.replace(r'(RT|rt)[ ]*@[ ]*[\\S]+',r'')\n",
        "    df[df['tweet_proc'].str.contains(r'RT[ ]?@')]\n",
        "    df['tweet_proc'] = df['tweet_proc'].str.replace(r'@[\\S]+',r'')\n",
        "\n",
        "    #remove &, < og >\n",
        "    df['tweet_proc'] = df['tweet_proc'].str.replace(r'&amp;?',r'og')\n",
        "    df['tweet_proc'] = df['tweet_proc'].str.replace(r'&lt;',r'<')\n",
        "    df['tweet_proc'] = df['tweet_proc'].str.replace(r'&gt;',r'>')\n",
        "\n",
        "    # remove extra space\n",
        "    df['tweet_proc'] = df['tweet_proc'].str.replace(r'[ ]{2, }',r' ')\n",
        "\n",
        "    # insert space between punctuation marks\n",
        "    df['tweet_proc'] = df['tweet_proc'].str.replace(r'([\\w\\d]+)([^\\w\\d ]+)', r'\\1 \\2')\n",
        "    df['tweet_proc'] = df['tweet_proc'].str.replace(r'([^\\w\\d ]+)([\\w\\d]+)', r'\\1 \\2')\n",
        "\n",
        "    # lower case and strip white spaces at both ends\n",
        "    df['tweet_proc'] = df['tweet_proc'].str.lower()\n",
        "    df['tweet_proc'] = df['tweet_proc'].str.strip()\n",
        "\n",
        "    return df"
      ],
      "execution_count": null,
      "outputs": []
    },
    {
      "cell_type": "code",
      "metadata": {
        "colab": {
          "base_uri": "https://localhost:8080/",
          "height": 419
        },
        "id": "0vPZX-zzCeO7",
        "outputId": "5d048ede-db6d-400d-828e-1d69213c1f01"
      },
      "source": [
        "# clean text\n",
        "Text_df = process_tweet(Text_df)\n",
        "Text_df"
      ],
      "execution_count": null,
      "outputs": [
        {
          "output_type": "execute_result",
          "data": {
            "text/html": [
              "\n",
              "  <div id=\"df-f4bc3ad2-6a3a-41cb-b804-ee295ec2c46c\">\n",
              "    <div class=\"colab-df-container\">\n",
              "      <div>\n",
              "<style scoped>\n",
              "    .dataframe tbody tr th:only-of-type {\n",
              "        vertical-align: middle;\n",
              "    }\n",
              "\n",
              "    .dataframe tbody tr th {\n",
              "        vertical-align: top;\n",
              "    }\n",
              "\n",
              "    .dataframe thead th {\n",
              "        text-align: right;\n",
              "    }\n",
              "</style>\n",
              "<table border=\"1\" class=\"dataframe\">\n",
              "  <thead>\n",
              "    <tr style=\"text-align: right;\">\n",
              "      <th></th>\n",
              "      <th>text</th>\n",
              "      <th>classification</th>\n",
              "      <th>tweet_proc</th>\n",
              "    </tr>\n",
              "  </thead>\n",
              "  <tbody>\n",
              "    <tr>\n",
              "      <th>0</th>\n",
              "      <td>det som er trist er å finne på begreper som sn...</td>\n",
              "      <td>1</td>\n",
              "      <td>det som er trist er å finne på begreper som sn...</td>\n",
              "    </tr>\n",
              "    <tr>\n",
              "      <th>1</th>\n",
              "      <td>så sier mannen som for noen måneder siden utta...</td>\n",
              "      <td>1</td>\n",
              "      <td>så sier mannen som for noen måneder siden utta...</td>\n",
              "    </tr>\n",
              "    <tr>\n",
              "      <th>2</th>\n",
              "      <td>frps sterkeste kort i valgkampen 2011</td>\n",
              "      <td>1</td>\n",
              "      <td>frps sterkeste kort i valgkampen 2011</td>\n",
              "    </tr>\n",
              "    <tr>\n",
              "      <th>3</th>\n",
              "      <td>ang snikislamisering: dette var, så vidt jeg v...</td>\n",
              "      <td>1</td>\n",
              "      <td>ang snikislamisering : dette var , så vidt jeg...</td>\n",
              "    </tr>\n",
              "    <tr>\n",
              "      <th>4</th>\n",
              "      <td>awais aslam: nok en gang bruker og forsvarer l...</td>\n",
              "      <td>1</td>\n",
              "      <td>awais aslam : nok en gang bruker og forsvarer ...</td>\n",
              "    </tr>\n",
              "    <tr>\n",
              "      <th>...</th>\n",
              "      <td>...</td>\n",
              "      <td>...</td>\n",
              "      <td>...</td>\n",
              "    </tr>\n",
              "    <tr>\n",
              "      <th>3272</th>\n",
              "      <td>@aft_meninger Utenom i alle muslimske land i h...</td>\n",
              "      <td>1</td>\n",
              "      <td>utenom i alle muslimske land i hele verden .</td>\n",
              "    </tr>\n",
              "    <tr>\n",
              "      <th>3273</th>\n",
              "      <td>@Aftenposten Ja, vi trenger helt klart mer ter...</td>\n",
              "      <td>0</td>\n",
              "      <td>ja , vi trenger helt klart mer terror . not !!...</td>\n",
              "    </tr>\n",
              "    <tr>\n",
              "      <th>3274</th>\n",
              "      <td>@aft_meninger @jasnoen @tetzschner Altfor mang...</td>\n",
              "      <td>1</td>\n",
              "      <td>altfor mange politikere inkludert stortingspol...</td>\n",
              "    </tr>\n",
              "    <tr>\n",
              "      <th>3275</th>\n",
              "      <td>@vgnett hvorfor ikke betale privatpersoner for...</td>\n",
              "      <td>1</td>\n",
              "      <td>hvorfor ikke betale privatpersoner for å gi hu...</td>\n",
              "    </tr>\n",
              "    <tr>\n",
              "      <th>3276</th>\n",
              "      <td>@vaartland @AlfGjosund ....jeg er positv til m...</td>\n",
              "      <td>1</td>\n",
              "      <td>.... jeg er positv til muslimer \\r\\r\\n dem har...</td>\n",
              "    </tr>\n",
              "  </tbody>\n",
              "</table>\n",
              "<p>3277 rows × 3 columns</p>\n",
              "</div>\n",
              "      <button class=\"colab-df-convert\" onclick=\"convertToInteractive('df-f4bc3ad2-6a3a-41cb-b804-ee295ec2c46c')\"\n",
              "              title=\"Convert this dataframe to an interactive table.\"\n",
              "              style=\"display:none;\">\n",
              "        \n",
              "  <svg xmlns=\"http://www.w3.org/2000/svg\" height=\"24px\"viewBox=\"0 0 24 24\"\n",
              "       width=\"24px\">\n",
              "    <path d=\"M0 0h24v24H0V0z\" fill=\"none\"/>\n",
              "    <path d=\"M18.56 5.44l.94 2.06.94-2.06 2.06-.94-2.06-.94-.94-2.06-.94 2.06-2.06.94zm-11 1L8.5 8.5l.94-2.06 2.06-.94-2.06-.94L8.5 2.5l-.94 2.06-2.06.94zm10 10l.94 2.06.94-2.06 2.06-.94-2.06-.94-.94-2.06-.94 2.06-2.06.94z\"/><path d=\"M17.41 7.96l-1.37-1.37c-.4-.4-.92-.59-1.43-.59-.52 0-1.04.2-1.43.59L10.3 9.45l-7.72 7.72c-.78.78-.78 2.05 0 2.83L4 21.41c.39.39.9.59 1.41.59.51 0 1.02-.2 1.41-.59l7.78-7.78 2.81-2.81c.8-.78.8-2.07 0-2.86zM5.41 20L4 18.59l7.72-7.72 1.47 1.35L5.41 20z\"/>\n",
              "  </svg>\n",
              "      </button>\n",
              "      \n",
              "  <style>\n",
              "    .colab-df-container {\n",
              "      display:flex;\n",
              "      flex-wrap:wrap;\n",
              "      gap: 12px;\n",
              "    }\n",
              "\n",
              "    .colab-df-convert {\n",
              "      background-color: #E8F0FE;\n",
              "      border: none;\n",
              "      border-radius: 50%;\n",
              "      cursor: pointer;\n",
              "      display: none;\n",
              "      fill: #1967D2;\n",
              "      height: 32px;\n",
              "      padding: 0 0 0 0;\n",
              "      width: 32px;\n",
              "    }\n",
              "\n",
              "    .colab-df-convert:hover {\n",
              "      background-color: #E2EBFA;\n",
              "      box-shadow: 0px 1px 2px rgba(60, 64, 67, 0.3), 0px 1px 3px 1px rgba(60, 64, 67, 0.15);\n",
              "      fill: #174EA6;\n",
              "    }\n",
              "\n",
              "    [theme=dark] .colab-df-convert {\n",
              "      background-color: #3B4455;\n",
              "      fill: #D2E3FC;\n",
              "    }\n",
              "\n",
              "    [theme=dark] .colab-df-convert:hover {\n",
              "      background-color: #434B5C;\n",
              "      box-shadow: 0px 1px 3px 1px rgba(0, 0, 0, 0.15);\n",
              "      filter: drop-shadow(0px 1px 2px rgba(0, 0, 0, 0.3));\n",
              "      fill: #FFFFFF;\n",
              "    }\n",
              "  </style>\n",
              "\n",
              "      <script>\n",
              "        const buttonEl =\n",
              "          document.querySelector('#df-f4bc3ad2-6a3a-41cb-b804-ee295ec2c46c button.colab-df-convert');\n",
              "        buttonEl.style.display =\n",
              "          google.colab.kernel.accessAllowed ? 'block' : 'none';\n",
              "\n",
              "        async function convertToInteractive(key) {\n",
              "          const element = document.querySelector('#df-f4bc3ad2-6a3a-41cb-b804-ee295ec2c46c');\n",
              "          const dataTable =\n",
              "            await google.colab.kernel.invokeFunction('convertToInteractive',\n",
              "                                                     [key], {});\n",
              "          if (!dataTable) return;\n",
              "\n",
              "          const docLinkHtml = 'Like what you see? Visit the ' +\n",
              "            '<a target=\"_blank\" href=https://colab.research.google.com/notebooks/data_table.ipynb>data table notebook</a>'\n",
              "            + ' to learn more about interactive tables.';\n",
              "          element.innerHTML = '';\n",
              "          dataTable['output_type'] = 'display_data';\n",
              "          await google.colab.output.renderOutput(dataTable, element);\n",
              "          const docLink = document.createElement('div');\n",
              "          docLink.innerHTML = docLinkHtml;\n",
              "          element.appendChild(docLink);\n",
              "        }\n",
              "      </script>\n",
              "    </div>\n",
              "  </div>\n",
              "  "
            ],
            "text/plain": [
              "                                                   text  ...                                         tweet_proc\n",
              "0     det som er trist er å finne på begreper som sn...  ...  det som er trist er å finne på begreper som sn...\n",
              "1     så sier mannen som for noen måneder siden utta...  ...  så sier mannen som for noen måneder siden utta...\n",
              "2                 frps sterkeste kort i valgkampen 2011  ...              frps sterkeste kort i valgkampen 2011\n",
              "3     ang snikislamisering: dette var, så vidt jeg v...  ...  ang snikislamisering : dette var , så vidt jeg...\n",
              "4     awais aslam: nok en gang bruker og forsvarer l...  ...  awais aslam : nok en gang bruker og forsvarer ...\n",
              "...                                                 ...  ...                                                ...\n",
              "3272  @aft_meninger Utenom i alle muslimske land i h...  ...       utenom i alle muslimske land i hele verden .\n",
              "3273  @Aftenposten Ja, vi trenger helt klart mer ter...  ...  ja , vi trenger helt klart mer terror . not !!...\n",
              "3274  @aft_meninger @jasnoen @tetzschner Altfor mang...  ...  altfor mange politikere inkludert stortingspol...\n",
              "3275  @vgnett hvorfor ikke betale privatpersoner for...  ...  hvorfor ikke betale privatpersoner for å gi hu...\n",
              "3276  @vaartland @AlfGjosund ....jeg er positv til m...  ...  .... jeg er positv til muslimer \\r\\r\\n dem har...\n",
              "\n",
              "[3277 rows x 3 columns]"
            ]
          },
          "metadata": {},
          "execution_count": 7
        }
      ]
    },
    {
      "cell_type": "markdown",
      "metadata": {
        "id": "NREel77ICwgK"
      },
      "source": [
        "# check the most common words and least popular words"
      ]
    },
    {
      "cell_type": "code",
      "metadata": {
        "colab": {
          "base_uri": "https://localhost:8080/"
        },
        "id": "8ghZmoa9Cvb1",
        "outputId": "03e76921-a2ac-4264-b310-a9b079d01cac"
      },
      "source": [
        "data = Counter(''.join(Text_df['tweet_proc'].values).split())\n",
        "\n",
        "print('Most occurance word: \\n\\n', data.most_common()[:10])\n",
        "print('\\n\\nLeast occurance word: \\n\\n', data.most_common()[-10:])"
      ],
      "execution_count": null,
      "outputs": [
        {
          "output_type": "stream",
          "name": "stdout",
          "text": [
            "Most occurance word: \n",
            "\n",
            " [('.', 3112), (',', 2768), ('er', 2700), ('og', 2271), ('i', 2000), ('det', 1901), ('som', 1720), ('å', 1460), ('ikke', 1393), ('en', 1125)]\n",
            "\n",
            "\n",
            "Least occurance word: \n",
            "\n",
            " [('dulle', 1), ('!altfor', 1), ('stortingspolitikere', 1), ('argumentert', 1), ('privatpersoner', 1), ('husly', 1), ('aktivisert', 1), ('alt....', 1), ('positv', 1), ('banditt', 1)]\n"
          ]
        }
      ]
    },
    {
      "cell_type": "markdown",
      "source": [
        "We can oberve that the dataset contains a lots of non-alphabetic words. These words does not add value in the model. "
      ],
      "metadata": {
        "id": "BAGL-U4T6oYI"
      }
    },
    {
      "cell_type": "markdown",
      "metadata": {
        "id": "zlDTnOQbEjnl"
      },
      "source": [
        "# check number of words with single occurance"
      ]
    },
    {
      "cell_type": "code",
      "metadata": {
        "colab": {
          "base_uri": "https://localhost:8080/"
        },
        "id": "ix9QxxbCDX0g",
        "outputId": "532611da-66f9-40f6-d908-8543f8041787"
      },
      "source": [
        "count=0\n",
        "for word, num in data.items():\n",
        "  if num==1:\n",
        "    count+=1\n",
        "print('{} number of words occur only one time'.format(count))"
      ],
      "execution_count": null,
      "outputs": [
        {
          "output_type": "stream",
          "name": "stdout",
          "text": [
            "9189 number of words occur only one time\n"
          ]
        }
      ]
    },
    {
      "cell_type": "markdown",
      "metadata": {
        "id": "4WwhdOvw9Ewt"
      },
      "source": [
        "# clean text more"
      ]
    },
    {
      "cell_type": "code",
      "metadata": {
        "id": "Ft1mRWDkvZZ7"
      },
      "source": [
        "# convert smile emoji to smile word\n",
        "Text_df['tweet_proc'] = Text_df['tweet_proc'].str.replace(':-\\)', 'smile')\n",
        "\n",
        "# convert sad emoji to sad word\n",
        "Text_df['tweet_proc'] = Text_df['tweet_proc'].str.replace(':-\\(', 'trist')\n",
        "\n",
        "# remove all non-alphabetic characters\n",
        "Text_df['tweet_proc'] = Text_df['tweet_proc'].str.replace(r'[^a-zåøæ ]', '')"
      ],
      "execution_count": null,
      "outputs": []
    },
    {
      "cell_type": "markdown",
      "metadata": {
        "id": "2XzPbOYQ9W_P"
      },
      "source": [
        "# remove stop words"
      ]
    },
    {
      "cell_type": "code",
      "metadata": {
        "id": "9z7EK0CR9ViK"
      },
      "source": [
        "stop_words = stopwords.words('norwegian')\n",
        "stop_words.remove('ikke')\n",
        "stop_words.remove('ikkje')\n",
        "\n",
        "Text_df['tweet_proc'] = Text_df['tweet_proc'].apply(lambda x:' '.join(w for w in x.split() if w not in stop_words))"
      ],
      "execution_count": null,
      "outputs": []
    },
    {
      "cell_type": "markdown",
      "source": [
        "# remove tweets which are less than or equal to three words "
      ],
      "metadata": {
        "id": "VelDXONBEk-u"
      }
    },
    {
      "cell_type": "code",
      "metadata": {
        "colab": {
          "base_uri": "https://localhost:8080/",
          "height": 419
        },
        "id": "MAPvu8y8zGZb",
        "outputId": "4edfe279-a72d-4ed9-e6f9-83375c4a2d7a"
      },
      "source": [
        "Text_df = Text_df[Text_df.tweet_proc.apply(lambda x: len(x.split())>3)]\n",
        "Text_df"
      ],
      "execution_count": null,
      "outputs": [
        {
          "output_type": "execute_result",
          "data": {
            "text/html": [
              "\n",
              "  <div id=\"df-5a11eed1-dc08-426e-ad26-06647de74ada\">\n",
              "    <div class=\"colab-df-container\">\n",
              "      <div>\n",
              "<style scoped>\n",
              "    .dataframe tbody tr th:only-of-type {\n",
              "        vertical-align: middle;\n",
              "    }\n",
              "\n",
              "    .dataframe tbody tr th {\n",
              "        vertical-align: top;\n",
              "    }\n",
              "\n",
              "    .dataframe thead th {\n",
              "        text-align: right;\n",
              "    }\n",
              "</style>\n",
              "<table border=\"1\" class=\"dataframe\">\n",
              "  <thead>\n",
              "    <tr style=\"text-align: right;\">\n",
              "      <th></th>\n",
              "      <th>text</th>\n",
              "      <th>classification</th>\n",
              "      <th>tweet_proc</th>\n",
              "    </tr>\n",
              "  </thead>\n",
              "  <tbody>\n",
              "    <tr>\n",
              "      <th>0</th>\n",
              "      <td>det som er trist er å finne på begreper som sn...</td>\n",
              "      <td>1</td>\n",
              "      <td>trist finne begreper snikislamisering styre de...</td>\n",
              "    </tr>\n",
              "    <tr>\n",
              "      <th>1</th>\n",
              "      <td>så sier mannen som for noen måneder siden utta...</td>\n",
              "      <td>1</td>\n",
              "      <td>sier mannen måneder uttalte innføre sharialån ...</td>\n",
              "    </tr>\n",
              "    <tr>\n",
              "      <th>2</th>\n",
              "      <td>frps sterkeste kort i valgkampen 2011</td>\n",
              "      <td>1</td>\n",
              "      <td>frps sterkeste kort valgkampen</td>\n",
              "    </tr>\n",
              "    <tr>\n",
              "      <th>3</th>\n",
              "      <td>ang snikislamisering: dette var, så vidt jeg v...</td>\n",
              "      <td>1</td>\n",
              "      <td>ang snikislamisering vidt vet ord siv jensen i...</td>\n",
              "    </tr>\n",
              "    <tr>\n",
              "      <th>4</th>\n",
              "      <td>awais aslam: nok en gang bruker og forsvarer l...</td>\n",
              "      <td>1</td>\n",
              "      <td>awais aslam nok gang bruker forsvarer landets ...</td>\n",
              "    </tr>\n",
              "    <tr>\n",
              "      <th>...</th>\n",
              "      <td>...</td>\n",
              "      <td>...</td>\n",
              "      <td>...</td>\n",
              "    </tr>\n",
              "    <tr>\n",
              "      <th>3272</th>\n",
              "      <td>@aft_meninger Utenom i alle muslimske land i h...</td>\n",
              "      <td>1</td>\n",
              "      <td>utenom muslimske land hele verden</td>\n",
              "    </tr>\n",
              "    <tr>\n",
              "      <th>3273</th>\n",
              "      <td>@Aftenposten Ja, vi trenger helt klart mer ter...</td>\n",
              "      <td>0</td>\n",
              "      <td>trenger helt klart mer terror not må norge ves...</td>\n",
              "    </tr>\n",
              "    <tr>\n",
              "      <th>3274</th>\n",
              "      <td>@aft_meninger @jasnoen @tetzschner Altfor mang...</td>\n",
              "      <td>1</td>\n",
              "      <td>altfor politikere inkludert stortingspolitiker...</td>\n",
              "    </tr>\n",
              "    <tr>\n",
              "      <th>3275</th>\n",
              "      <td>@vgnett hvorfor ikke betale privatpersoner for...</td>\n",
              "      <td>1</td>\n",
              "      <td>ikke betale privatpersoner gi husly samtidig m...</td>\n",
              "    </tr>\n",
              "    <tr>\n",
              "      <th>3276</th>\n",
              "      <td>@vaartland @AlfGjosund ....jeg er positv til m...</td>\n",
              "      <td>1</td>\n",
              "      <td>positv muslimer aldri gjort galt motsetning kr...</td>\n",
              "    </tr>\n",
              "  </tbody>\n",
              "</table>\n",
              "<p>3277 rows × 3 columns</p>\n",
              "</div>\n",
              "      <button class=\"colab-df-convert\" onclick=\"convertToInteractive('df-5a11eed1-dc08-426e-ad26-06647de74ada')\"\n",
              "              title=\"Convert this dataframe to an interactive table.\"\n",
              "              style=\"display:none;\">\n",
              "        \n",
              "  <svg xmlns=\"http://www.w3.org/2000/svg\" height=\"24px\"viewBox=\"0 0 24 24\"\n",
              "       width=\"24px\">\n",
              "    <path d=\"M0 0h24v24H0V0z\" fill=\"none\"/>\n",
              "    <path d=\"M18.56 5.44l.94 2.06.94-2.06 2.06-.94-2.06-.94-.94-2.06-.94 2.06-2.06.94zm-11 1L8.5 8.5l.94-2.06 2.06-.94-2.06-.94L8.5 2.5l-.94 2.06-2.06.94zm10 10l.94 2.06.94-2.06 2.06-.94-2.06-.94-.94-2.06-.94 2.06-2.06.94z\"/><path d=\"M17.41 7.96l-1.37-1.37c-.4-.4-.92-.59-1.43-.59-.52 0-1.04.2-1.43.59L10.3 9.45l-7.72 7.72c-.78.78-.78 2.05 0 2.83L4 21.41c.39.39.9.59 1.41.59.51 0 1.02-.2 1.41-.59l7.78-7.78 2.81-2.81c.8-.78.8-2.07 0-2.86zM5.41 20L4 18.59l7.72-7.72 1.47 1.35L5.41 20z\"/>\n",
              "  </svg>\n",
              "      </button>\n",
              "      \n",
              "  <style>\n",
              "    .colab-df-container {\n",
              "      display:flex;\n",
              "      flex-wrap:wrap;\n",
              "      gap: 12px;\n",
              "    }\n",
              "\n",
              "    .colab-df-convert {\n",
              "      background-color: #E8F0FE;\n",
              "      border: none;\n",
              "      border-radius: 50%;\n",
              "      cursor: pointer;\n",
              "      display: none;\n",
              "      fill: #1967D2;\n",
              "      height: 32px;\n",
              "      padding: 0 0 0 0;\n",
              "      width: 32px;\n",
              "    }\n",
              "\n",
              "    .colab-df-convert:hover {\n",
              "      background-color: #E2EBFA;\n",
              "      box-shadow: 0px 1px 2px rgba(60, 64, 67, 0.3), 0px 1px 3px 1px rgba(60, 64, 67, 0.15);\n",
              "      fill: #174EA6;\n",
              "    }\n",
              "\n",
              "    [theme=dark] .colab-df-convert {\n",
              "      background-color: #3B4455;\n",
              "      fill: #D2E3FC;\n",
              "    }\n",
              "\n",
              "    [theme=dark] .colab-df-convert:hover {\n",
              "      background-color: #434B5C;\n",
              "      box-shadow: 0px 1px 3px 1px rgba(0, 0, 0, 0.15);\n",
              "      filter: drop-shadow(0px 1px 2px rgba(0, 0, 0, 0.3));\n",
              "      fill: #FFFFFF;\n",
              "    }\n",
              "  </style>\n",
              "\n",
              "      <script>\n",
              "        const buttonEl =\n",
              "          document.querySelector('#df-5a11eed1-dc08-426e-ad26-06647de74ada button.colab-df-convert');\n",
              "        buttonEl.style.display =\n",
              "          google.colab.kernel.accessAllowed ? 'block' : 'none';\n",
              "\n",
              "        async function convertToInteractive(key) {\n",
              "          const element = document.querySelector('#df-5a11eed1-dc08-426e-ad26-06647de74ada');\n",
              "          const dataTable =\n",
              "            await google.colab.kernel.invokeFunction('convertToInteractive',\n",
              "                                                     [key], {});\n",
              "          if (!dataTable) return;\n",
              "\n",
              "          const docLinkHtml = 'Like what you see? Visit the ' +\n",
              "            '<a target=\"_blank\" href=https://colab.research.google.com/notebooks/data_table.ipynb>data table notebook</a>'\n",
              "            + ' to learn more about interactive tables.';\n",
              "          element.innerHTML = '';\n",
              "          dataTable['output_type'] = 'display_data';\n",
              "          await google.colab.output.renderOutput(dataTable, element);\n",
              "          const docLink = document.createElement('div');\n",
              "          docLink.innerHTML = docLinkHtml;\n",
              "          element.appendChild(docLink);\n",
              "        }\n",
              "      </script>\n",
              "    </div>\n",
              "  </div>\n",
              "  "
            ],
            "text/plain": [
              "                                                   text  ...                                         tweet_proc\n",
              "0     det som er trist er å finne på begreper som sn...  ...  trist finne begreper snikislamisering styre de...\n",
              "1     så sier mannen som for noen måneder siden utta...  ...  sier mannen måneder uttalte innføre sharialån ...\n",
              "2                 frps sterkeste kort i valgkampen 2011  ...                     frps sterkeste kort valgkampen\n",
              "3     ang snikislamisering: dette var, så vidt jeg v...  ...  ang snikislamisering vidt vet ord siv jensen i...\n",
              "4     awais aslam: nok en gang bruker og forsvarer l...  ...  awais aslam nok gang bruker forsvarer landets ...\n",
              "...                                                 ...  ...                                                ...\n",
              "3272  @aft_meninger Utenom i alle muslimske land i h...  ...                  utenom muslimske land hele verden\n",
              "3273  @Aftenposten Ja, vi trenger helt klart mer ter...  ...  trenger helt klart mer terror not må norge ves...\n",
              "3274  @aft_meninger @jasnoen @tetzschner Altfor mang...  ...  altfor politikere inkludert stortingspolitiker...\n",
              "3275  @vgnett hvorfor ikke betale privatpersoner for...  ...  ikke betale privatpersoner gi husly samtidig m...\n",
              "3276  @vaartland @AlfGjosund ....jeg er positv til m...  ...  positv muslimer aldri gjort galt motsetning kr...\n",
              "\n",
              "[3277 rows x 3 columns]"
            ]
          },
          "metadata": {},
          "execution_count": 16
        }
      ]
    },
    {
      "cell_type": "markdown",
      "metadata": {
        "id": "ikBqpzjydgcy"
      },
      "source": [
        "# count total of vocabulary (words) "
      ]
    },
    {
      "cell_type": "code",
      "metadata": {
        "colab": {
          "base_uri": "https://localhost:8080/"
        },
        "id": "2LnGhc_Pzudj",
        "outputId": "603f6eac-9f1a-4444-9c20-8b488dd186c2"
      },
      "source": [
        "vocab_length = len(Counter(' '.join(Text_df['tweet_proc'].values).split()))\n",
        "vocab_length"
      ],
      "execution_count": null,
      "outputs": [
        {
          "output_type": "execute_result",
          "data": {
            "text/plain": [
              "11851"
            ]
          },
          "metadata": {},
          "execution_count": 17
        }
      ]
    },
    {
      "cell_type": "markdown",
      "source": [
        "# convert vocab into tokenizer and sequences"
      ],
      "metadata": {
        "id": "lKSVyYFnHNo1"
      }
    },
    {
      "cell_type": "code",
      "metadata": {
        "id": "UB3_nrIJgApq",
        "colab": {
          "base_uri": "https://localhost:8080/"
        },
        "outputId": "0ef8c221-50d1-4f52-8622-313274d5d26d"
      },
      "source": [
        "tokenizer = Tokenizer(num_words=vocab_length)\n",
        "tokenizer.fit_on_texts(Text_df['tweet_proc'].values)\n",
        "\n",
        "X = tokenizer.texts_to_sequences(Text_df['tweet_proc'].values)\n",
        "X = pad_sequences(X, maxlen=128, padding='post', truncating='post')\n",
        "Y = Text_df['classification']\n",
        "\n",
        "vocab_size = len(tokenizer.word_index) + 1  # Adding 1 because of reserved 0 index\n",
        "print('vocab_size: ', vocab_size)"
      ],
      "execution_count": null,
      "outputs": [
        {
          "output_type": "stream",
          "name": "stdout",
          "text": [
            "vocab_size:  11852\n"
          ]
        }
      ]
    },
    {
      "cell_type": "markdown",
      "source": [
        "# save tokanizer for classifying new tweets"
      ],
      "metadata": {
        "id": "I_YQyMGEHsDd"
      }
    },
    {
      "cell_type": "code",
      "metadata": {
        "id": "T8cdJDKrJGzx"
      },
      "source": [
        "import io\n",
        "tokenizer_json_2 = tokenizer.to_json()\n",
        "base = '/content/drive/My Drive/Hatefulle Ytringer Models/models/Models 16_10_2021/'\n",
        "with io.open(base + 'tokenizer.json_16102021_v1', 'w', encoding='utf-8') as f:\n",
        "    f.write(json.dumps(tokenizer_json_2, ensure_ascii=False))"
      ],
      "execution_count": null,
      "outputs": []
    },
    {
      "cell_type": "markdown",
      "source": [
        "# split the data into train and test size"
      ],
      "metadata": {
        "id": "x5OqgNmeIAxQ"
      }
    },
    {
      "cell_type": "code",
      "metadata": {
        "id": "D4xAzUjciTpS"
      },
      "source": [
        "X_train, X2, y_train, y2 = train_test_split(X, Y, test_size=0.3, random_state=42, stratify=Y)\n",
        "X_val, X_test, y_val, y_test = train_test_split(X2, y2, test_size=0.5, stratify=y2)"
      ],
      "execution_count": null,
      "outputs": []
    },
    {
      "cell_type": "markdown",
      "source": [
        "# replace 99 () as 1"
      ],
      "metadata": {
        "id": "J8h5tWYYILNR"
      }
    },
    {
      "cell_type": "code",
      "metadata": {
        "id": "0z_55ETojNqY"
      },
      "source": [
        "y_train = y_train.replace(99, 1)\n",
        "y_val = y_val.replace(99, 1)\n",
        "y_test = y_test.replace(99, 1)"
      ],
      "execution_count": null,
      "outputs": []
    },
    {
      "cell_type": "markdown",
      "source": [
        "# number of records used in train, test and validation"
      ],
      "metadata": {
        "id": "xZVWROgFIZU8"
      }
    },
    {
      "cell_type": "code",
      "metadata": {
        "colab": {
          "base_uri": "https://localhost:8080/"
        },
        "id": "jVRgaJxpjrRf",
        "outputId": "d14615b5-6a11-4263-bf81-f6310a3e3656"
      },
      "source": [
        "print(f'Train data shape {X_train.shape}, {y_train.shape}, {Counter(y_train)}')\n",
        "print(f'Validation data shape {X_val.shape}, {y_val.shape}, {Counter(y_val)}')\n",
        "print(f'Test data shape {X_test.shape}, {y_test.shape}, {Counter(y_test)}')"
      ],
      "execution_count": null,
      "outputs": [
        {
          "output_type": "stream",
          "name": "stdout",
          "text": [
            "Train data shape (2293, 128), (2293,), Counter({1: 1729, 0: 564})\n",
            "Validation data shape (492, 128), (492,), Counter({1: 371, 0: 121})\n",
            "Test data shape (492, 128), (492,), Counter({1: 371, 0: 121})\n"
          ]
        }
      ]
    },
    {
      "cell_type": "markdown",
      "source": [
        "# Build Artificial Neural Network (ANN) model"
      ],
      "metadata": {
        "id": "lh-m69oCIr6g"
      }
    },
    {
      "cell_type": "code",
      "metadata": {
        "id": "NSi_m74wj2bG"
      },
      "source": [
        "def create_ann_model():\n",
        "  model = Sequential()\n",
        "  model.add(Embedding(vocab_size, 28))\n",
        "  model.add(GlobalAveragePooling1D())\n",
        "  model.add(Dense(64, activation='relu'))\n",
        "  model.add(Dense(16, activation='relu'))\n",
        "  model.add(Dense(1, activation='sigmoid'))\n",
        "  model.compile(optimizer='adam', loss='binary_crossentropy', metrics=['accuracy'])\n",
        "  return model\n",
        "\n",
        "def create_ann_model_2():\n",
        "  model = Sequential()\n",
        "  model.add(Embedding(vocab_size, 32))\n",
        "  model.add(GlobalAveragePooling1D())\n",
        "  model.add(Dense(64, activation='relu'))\n",
        "  model.add(Dropout(0.2))\n",
        "  model.add(Dense(32, activation='relu'))\n",
        "  model.add(Dropout(0.1))\n",
        "  model.add(Dense(16, activation='relu'))\n",
        "  model.add(Dense(1, activation='sigmoid'))\n",
        "  model.compile(optimizer='adam', loss='binary_crossentropy', metrics=['accuracy'])\n",
        "  return model"
      ],
      "execution_count": null,
      "outputs": []
    },
    {
      "cell_type": "markdown",
      "source": [
        "# define checkpoint to store model when it yields highest accuracy"
      ],
      "metadata": {
        "id": "nTZWWQbqI6t5"
      }
    },
    {
      "cell_type": "code",
      "metadata": {
        "id": "ebwdoianG-jh"
      },
      "source": [
        "# create current folder to store current model\n",
        "dt = datetime.datetime.now()\n",
        "dt = str(dt).replace(' ', '_')[:-7]\n",
        "\n",
        "if not os.path.exists(path+'models/'+f'model_{dt}'):\n",
        "  os.mkdir(path+'models/'+f'model_{dt}')\n",
        "else:\n",
        "  for m in os.listdir(path+'models/'+f'model_{dt}/'):\n",
        "    os.remove(path+'models/'+f'model_{dt}/'+m)\n",
        "\n",
        "checkpoint_filepath = path+f'models/model_{dt}/'+'ANN-{epoch:02d}-{val_accuracy:.4f}.hdf5'\n",
        "model_checkpoint_callback = ModelCheckpoint(\n",
        "    filepath=checkpoint_filepath,\n",
        "    save_weights_only=True,\n",
        "    monitor='val_accuracy',\n",
        "    mode='max',\n",
        "    save_best_only=True)"
      ],
      "execution_count": null,
      "outputs": []
    },
    {
      "cell_type": "code",
      "metadata": {
        "colab": {
          "base_uri": "https://localhost:8080/"
        },
        "id": "QcryWbIUlTYW",
        "outputId": "19d56b2f-c5db-4522-d16c-3be7859a6eea"
      },
      "source": [
        "# create model\n",
        "ann = create_ann_model()\n",
        "# ann = create_ann_model_2()\n",
        "\n",
        "# train and predict with default model\n",
        "ann.fit(X_train, y_train, validation_data=(X_val, y_val), epochs=15, verbose=0, batch_size=10, callbacks=[model_checkpoint_callback])\n",
        "_, acc = ann.evaluate(X_test, y_test)\n",
        "print('Test accuracy of default model: ', acc)\n",
        "\n",
        "# findout best model path from saved folder \n",
        "acc = 0\n",
        "best_model = None\n",
        "for mpath in os.listdir(path+f'models/model_{dt}/'):\n",
        "  val = float(mpath.split('-')[-1].replace('.hdf5',''))\n",
        "  if val>acc:\n",
        "    best_model = mpath\n",
        "\n",
        "# load the best model\n",
        "checkpoint_filepath = path+f'models/model_{dt}/'+best_model\n",
        "ann.load_weights(checkpoint_filepath)\n",
        "\n",
        "# predict with best model\n",
        "yhat_prob = ann.predict(X_test)\n",
        "_, acc = ann.evaluate(X_test, y_test)\n",
        "print('Test accuracy of saved model: ', acc)"
      ],
      "execution_count": null,
      "outputs": [
        {
          "output_type": "stream",
          "name": "stdout",
          "text": [
            "16/16 [==============================] - 0s 2ms/step - loss: 0.8247 - accuracy: 0.7866\n",
            "Test accuracy of default model:  0.7865853905677795\n",
            "16/16 [==============================] - 0s 2ms/step - loss: 0.4600 - accuracy: 0.8150\n",
            "Test accuracy of saved model:  0.815040647983551\n"
          ]
        }
      ]
    },
    {
      "cell_type": "markdown",
      "source": [
        "# convert probability into classification based on threshold"
      ],
      "metadata": {
        "id": "XTp8YuWLaKM3"
      }
    },
    {
      "cell_type": "code",
      "metadata": {
        "id": "xKuIs2QOwuck"
      },
      "source": [
        "yhat = [1 if y>0.5 else 0 for y in yhat_prob]"
      ],
      "execution_count": null,
      "outputs": []
    },
    {
      "cell_type": "markdown",
      "source": [
        "# create function to print the different metrics"
      ],
      "metadata": {
        "id": "jvEPI3ELak-d"
      }
    },
    {
      "cell_type": "code",
      "metadata": {
        "id": "f29my1XoxveQ"
      },
      "source": [
        "def print_metrics(real, predict):\n",
        "  print('Accuracy: ', accuracy_score(real, predict))\n",
        "  print('\\nPrecision: ', precision_score(real, predict))\n",
        "  print('\\nrecall: ', recall_score(real, predict))\n",
        "  print('\\nf1_score: ', f1_score(real, predict))\n",
        "  print('\\nconfusion_matrix:\\n ', pd.DataFrame(confusion_matrix(real, predict), index=[0, 1], columns=[0, 1]))\n",
        "  print('\\nclassification_report:\\n ', classification_report(real, predict))"
      ],
      "execution_count": null,
      "outputs": []
    },
    {
      "cell_type": "code",
      "metadata": {
        "colab": {
          "base_uri": "https://localhost:8080/"
        },
        "id": "l_gwS6atysh-",
        "outputId": "61725d2e-7329-4080-bbb7-1db6c6dcd3a0"
      },
      "source": [
        "print_metrics(y_test, yhat)"
      ],
      "execution_count": null,
      "outputs": [
        {
          "output_type": "stream",
          "name": "stdout",
          "text": [
            "Accuracy:  0.8150406504065041\n",
            "\n",
            "Precision:  0.8535353535353535\n",
            "\n",
            "recall:  0.9110512129380054\n",
            "\n",
            "f1_score:  0.8813559322033897\n",
            "\n",
            "confusion_matrix:\n",
            "      0    1\n",
            "0  63   58\n",
            "1  33  338\n",
            "\n",
            "classification_report:\n",
            "                precision    recall  f1-score   support\n",
            "\n",
            "           0       0.66      0.52      0.58       121\n",
            "           1       0.85      0.91      0.88       371\n",
            "\n",
            "    accuracy                           0.82       492\n",
            "   macro avg       0.75      0.72      0.73       492\n",
            "weighted avg       0.81      0.82      0.81       492\n",
            "\n"
          ]
        }
      ]
    },
    {
      "cell_type": "markdown",
      "source": [
        "# AUC ROC curve\n",
        "<br>\n",
        "\n",
        "True Positive Rate = True Positives / (True Positives + False Negatives)\n",
        "\n",
        "False Positive Rate = False Positives / (False Positives + True Negatives)"
      ],
      "metadata": {
        "id": "c1D6VFajbQxX"
      }
    },
    {
      "cell_type": "code",
      "metadata": {
        "colab": {
          "base_uri": "https://localhost:8080/",
          "height": 331
        },
        "id": "THjOQrSgnqnJ",
        "outputId": "28135528-da9b-4c39-94f3-c57f19ae700e"
      },
      "source": [
        "def plot_roc_curve(fpr, tpr):\n",
        "    plt.plot(fpr, tpr, color='orange', label='ROC')\n",
        "    plt.plot([0, 1], [0, 1], color='darkblue', linestyle='--')\n",
        "    plt.xlabel('False Positive Rate')\n",
        "    plt.ylabel('True Positive Rate')\n",
        "    plt.title('Receiver Operating Characteristic (ROC) Curve')\n",
        "    plt.legend()\n",
        "    plt.show()\n",
        "\n",
        "y_score = np.array(yhat_prob)\n",
        "\n",
        "fpr, tpr, thresholds = roc_curve(y_test, y_score)\n",
        "print('ROC_AUC Score: ', roc_auc_score(y_test, y_score))\n",
        "\n",
        "# find optimal threshold\n",
        "optimal_idx = np.argmax(tpr - fpr)\n",
        "optimal_threshold = thresholds[optimal_idx]\n",
        "print(\"Optimal threshold value is:\", optimal_threshold)\n",
        "plot_roc_curve(fpr, tpr)"
      ],
      "execution_count": null,
      "outputs": [
        {
          "output_type": "stream",
          "name": "stdout",
          "text": [
            "ROC_AUC Score:  0.8296540509233477\n",
            "Optimal threshold value is: 0.7773687\n"
          ]
        },
        {
          "output_type": "display_data",
          "data": {
            "image/png": "[encoded data removed]",
            "text/plain": [
              "<Figure size 432x288 with 1 Axes>"
            ]
          },
          "metadata": {
            "needs_background": "light"
          }
        }
      ]
    },
    {
      "cell_type": "markdown",
      "source": [
        "# model accuracy based on optimal threshold\n"
      ],
      "metadata": {
        "id": "F83XpZrnb_7V"
      }
    },
    {
      "cell_type": "code",
      "metadata": {
        "colab": {
          "base_uri": "https://localhost:8080/"
        },
        "id": "HP8TO8l-nqxN",
        "outputId": "7e26c2c2-17a1-4f3f-ff2c-35897e4d268e"
      },
      "source": [
        "yhat = [1 if y>optimal_threshold else 0 for y in yhat_prob]\n",
        "print_metrics(y_test, yhat)"
      ],
      "execution_count": null,
      "outputs": [
        {
          "output_type": "stream",
          "name": "stdout",
          "text": [
            "Accuracy:  0.7926829268292683\n",
            "\n",
            "Precision:  0.8991097922848664\n",
            "\n",
            "recall:  0.816711590296496\n",
            "\n",
            "f1_score:  0.8559322033898304\n",
            "\n",
            "confusion_matrix:\n",
            "      0    1\n",
            "0  87   34\n",
            "1  68  303\n",
            "\n",
            "classification_report:\n",
            "                precision    recall  f1-score   support\n",
            "\n",
            "           0       0.56      0.72      0.63       121\n",
            "           1       0.90      0.82      0.86       371\n",
            "\n",
            "    accuracy                           0.79       492\n",
            "   macro avg       0.73      0.77      0.74       492\n",
            "weighted avg       0.82      0.79      0.80       492\n",
            "\n"
          ]
        }
      ]
    },
    {
      "cell_type": "code",
      "source": [
        "# save model\n",
        "ann.save(path+f'models/model/')"
      ],
      "metadata": {
        "id": "7hzmk3g1cGzM",
        "colab": {
          "base_uri": "https://localhost:8080/"
        },
        "outputId": "d4d8edde-52c8-4ad1-f01a-c689976916c9"
      },
      "execution_count": null,
      "outputs": [
        {
          "output_type": "stream",
          "name": "stdout",
          "text": [
            "INFO:tensorflow:Assets written to: /content/drive/My Drive/Hatefulle Ytringer Models/models/model/assets\n"
          ]
        }
      ]
    }
  ]
}