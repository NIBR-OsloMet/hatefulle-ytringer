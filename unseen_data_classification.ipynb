{
 "cells": [
  {
   "cell_type": "markdown",
   "metadata": {
    "id": "COIaQep43Zpx"
   },
   "source": [
    "# import necessary packages"
   ]
  },
  {
   "cell_type": "code",
   "execution_count": 13,
   "metadata": {
    "colab": {
     "base_uri": "https://localhost:8080/"
    },
    "id": "24Auozc7BcT2",
    "outputId": "26ee53aa-cc57-41ce-97c7-9ca177560548"
   },
   "outputs": [
    {
     "name": "stderr",
     "output_type": "stream",
     "text": [
      "[nltk_data] Downloading package stopwords to /home/ramesh/nltk_data...\n",
      "[nltk_data]   Package stopwords is already up-to-date!\n"
     ]
    }
   ],
   "source": [
    "import numpy as np\n",
    "import pandas as pd\n",
    "import json\n",
    "\n",
    "import nltk\n",
    "from nltk.corpus import stopwords\n",
    "nltk.download('stopwords')\n",
    "\n",
    "import tensorflow as tf\n",
    "from tensorflow.keras.preprocessing.text import tokenizer_from_json\n",
    "from tensorflow.keras.preprocessing.sequence import pad_sequences"
   ]
  },
  {
   "cell_type": "markdown",
   "metadata": {
    "id": "AZ7bUQbtB_b2"
   },
   "source": [
    "# Mount drive"
   ]
  },
  {
   "cell_type": "code",
   "execution_count": 14,
   "metadata": {
    "colab": {
     "base_uri": "https://localhost:8080/"
    },
    "id": "Q-hQWh7Tij-6",
    "outputId": "41dfc153-a557-42dc-8e95-13f9468dc4aa"
   },
   "outputs": [],
   "source": [
    "# choose option where you want to run\n",
    "run = 'local' # colab or local\n",
    "if run == 'colab':\n",
    "    from google.colab import drive\n",
    "    drive.mount('/content/drive')"
   ]
  },
  {
   "cell_type": "markdown",
   "metadata": {
    "id": "h7qEA26wCDvV"
   },
   "source": [
    "# Load data"
   ]
  },
  {
   "cell_type": "code",
   "execution_count": 15,
   "metadata": {
    "colab": {
     "base_uri": "https://localhost:8080/",
     "height": 204
    },
    "id": "dHauAb2HB8Lb",
    "outputId": "13a0c35d-e5e2-453f-de22-f4a5b06d3d8c"
   },
   "outputs": [
    {
     "data": {
      "text/html": [
       "<div>\n",
       "<style scoped>\n",
       "    .dataframe tbody tr th:only-of-type {\n",
       "        vertical-align: middle;\n",
       "    }\n",
       "\n",
       "    .dataframe tbody tr th {\n",
       "        vertical-align: top;\n",
       "    }\n",
       "\n",
       "    .dataframe thead th {\n",
       "        text-align: right;\n",
       "    }\n",
       "</style>\n",
       "<table border=\"1\" class=\"dataframe\">\n",
       "  <thead>\n",
       "    <tr style=\"text-align: right;\">\n",
       "      <th></th>\n",
       "      <th>post_id</th>\n",
       "      <th>comment_id</th>\n",
       "      <th>author_id</th>\n",
       "      <th>time</th>\n",
       "      <th>text</th>\n",
       "      <th>answers</th>\n",
       "    </tr>\n",
       "  </thead>\n",
       "  <tbody>\n",
       "    <tr>\n",
       "      <th>0</th>\n",
       "      <td>1917260805119180</td>\n",
       "      <td>1917262545119006</td>\n",
       "      <td>b197158e1e9e67272ba8a797616514cc</td>\n",
       "      <td>on Wed</td>\n",
       "      <td>Det er helt korrekt dette... disse 2 hadde et ...</td>\n",
       "      <td>NaN</td>\n",
       "    </tr>\n",
       "    <tr>\n",
       "      <th>1</th>\n",
       "      <td>1917260805119180</td>\n",
       "      <td>1917263215118939</td>\n",
       "      <td>b197158e1e9e67272ba8a797616514cc</td>\n",
       "      <td>on Wed</td>\n",
       "      <td>Men dette er det mange som enten ikke veit ell...</td>\n",
       "      <td>NaN</td>\n",
       "    </tr>\n",
       "    <tr>\n",
       "      <th>2</th>\n",
       "      <td>1917260805119180</td>\n",
       "      <td>1917345138444080</td>\n",
       "      <td>77c2ce38e63a629436ac616aec515ad1</td>\n",
       "      <td>on Wed</td>\n",
       "      <td>Islamsk nazist\\n\\nRopet til nazistisk islam (A...</td>\n",
       "      <td>NaN</td>\n",
       "    </tr>\n",
       "    <tr>\n",
       "      <th>3</th>\n",
       "      <td>1917260805119180</td>\n",
       "      <td>1917438355101425</td>\n",
       "      <td>274b68192b056e268f128ff63bfcd4a4</td>\n",
       "      <td>on Wed</td>\n",
       "      <td>Rebecca Romano</td>\n",
       "      <td>NaN</td>\n",
       "    </tr>\n",
       "    <tr>\n",
       "      <th>4</th>\n",
       "      <td>1917260805119180</td>\n",
       "      <td>1917473961764531</td>\n",
       "      <td>274b68192b056e268f128ff63bfcd4a4</td>\n",
       "      <td>on Wed</td>\n",
       "      <td>Rebecca Romano</td>\n",
       "      <td>NaN</td>\n",
       "    </tr>\n",
       "  </tbody>\n",
       "</table>\n",
       "</div>"
      ],
      "text/plain": [
       "            post_id        comment_id                         author_id  \\\n",
       "0  1917260805119180  1917262545119006  b197158e1e9e67272ba8a797616514cc   \n",
       "1  1917260805119180  1917263215118939  b197158e1e9e67272ba8a797616514cc   \n",
       "2  1917260805119180  1917345138444080  77c2ce38e63a629436ac616aec515ad1   \n",
       "3  1917260805119180  1917438355101425  274b68192b056e268f128ff63bfcd4a4   \n",
       "4  1917260805119180  1917473961764531  274b68192b056e268f128ff63bfcd4a4   \n",
       "\n",
       "     time                                               text answers  \n",
       "0  on Wed  Det er helt korrekt dette... disse 2 hadde et ...     NaN  \n",
       "1  on Wed  Men dette er det mange som enten ikke veit ell...     NaN  \n",
       "2  on Wed  Islamsk nazist\\n\\nRopet til nazistisk islam (A...     NaN  \n",
       "3  on Wed                                     Rebecca Romano     NaN  \n",
       "4  on Wed                                     Rebecca Romano     NaN  "
      ]
     },
     "execution_count": 15,
     "metadata": {},
     "output_type": "execute_result"
    }
   ],
   "source": [
    "# define path\n",
    "if run == 'colab':\n",
    "    base = '/content/drive/My Drive/Hatefulle Ytringer Models/'\n",
    "else:\n",
    "    base = './'\n",
    "\n",
    "# load data\n",
    "unlabel = pd.read_csv(base+'data/comments_SIAN_post_id.csv', encoding = \"UTF-8\")\n",
    "unlabel.head()"
   ]
  },
  {
   "cell_type": "code",
   "execution_count": 16,
   "metadata": {
    "colab": {
     "base_uri": "https://localhost:8080/",
     "height": 419
    },
    "id": "ANGuFr66B8O0",
    "outputId": "9485c517-58f5-44c7-b5b3-1a74bcf92007"
   },
   "outputs": [
    {
     "data": {
      "text/html": [
       "<div>\n",
       "<style scoped>\n",
       "    .dataframe tbody tr th:only-of-type {\n",
       "        vertical-align: middle;\n",
       "    }\n",
       "\n",
       "    .dataframe tbody tr th {\n",
       "        vertical-align: top;\n",
       "    }\n",
       "\n",
       "    .dataframe thead th {\n",
       "        text-align: right;\n",
       "    }\n",
       "</style>\n",
       "<table border=\"1\" class=\"dataframe\">\n",
       "  <thead>\n",
       "    <tr style=\"text-align: right;\">\n",
       "      <th></th>\n",
       "      <th>post_id</th>\n",
       "      <th>comment_id</th>\n",
       "      <th>author_id</th>\n",
       "      <th>text</th>\n",
       "    </tr>\n",
       "  </thead>\n",
       "  <tbody>\n",
       "    <tr>\n",
       "      <th>0</th>\n",
       "      <td>1917260805119180</td>\n",
       "      <td>1917262545119006</td>\n",
       "      <td>b197158e1e9e67272ba8a797616514cc</td>\n",
       "      <td>Det er helt korrekt dette... disse 2 hadde et ...</td>\n",
       "    </tr>\n",
       "    <tr>\n",
       "      <th>1</th>\n",
       "      <td>1917260805119180</td>\n",
       "      <td>1917263215118939</td>\n",
       "      <td>b197158e1e9e67272ba8a797616514cc</td>\n",
       "      <td>Men dette er det mange som enten ikke veit ell...</td>\n",
       "    </tr>\n",
       "    <tr>\n",
       "      <th>2</th>\n",
       "      <td>1917260805119180</td>\n",
       "      <td>1917345138444080</td>\n",
       "      <td>77c2ce38e63a629436ac616aec515ad1</td>\n",
       "      <td>Islamsk nazist\\n\\nRopet til nazistisk islam (A...</td>\n",
       "    </tr>\n",
       "    <tr>\n",
       "      <th>3</th>\n",
       "      <td>1917260805119180</td>\n",
       "      <td>1917438355101425</td>\n",
       "      <td>274b68192b056e268f128ff63bfcd4a4</td>\n",
       "      <td>Rebecca Romano</td>\n",
       "    </tr>\n",
       "    <tr>\n",
       "      <th>4</th>\n",
       "      <td>1917260805119180</td>\n",
       "      <td>1917473961764531</td>\n",
       "      <td>274b68192b056e268f128ff63bfcd4a4</td>\n",
       "      <td>Rebecca Romano</td>\n",
       "    </tr>\n",
       "    <tr>\n",
       "      <th>...</th>\n",
       "      <td>...</td>\n",
       "      <td>...</td>\n",
       "      <td>...</td>\n",
       "      <td>...</td>\n",
       "    </tr>\n",
       "    <tr>\n",
       "      <th>25581</th>\n",
       "      <td>638243483020925</td>\n",
       "      <td>638315766347030</td>\n",
       "      <td>09aee10bce10c937d9e33452486f09c8</td>\n",
       "      <td>Dette bilde har ingenting m innlegget å gjøre....</td>\n",
       "    </tr>\n",
       "    <tr>\n",
       "      <th>25582</th>\n",
       "      <td>638243483020925</td>\n",
       "      <td>638838086294798</td>\n",
       "      <td>afd2a1de527d52d1c5d31fea96b65fbc</td>\n",
       "      <td>dette er en helt annen sak tror eg.</td>\n",
       "    </tr>\n",
       "    <tr>\n",
       "      <th>25583</th>\n",
       "      <td>637654413079832</td>\n",
       "      <td>637701513075122</td>\n",
       "      <td>77b1fe423e999e92a12e4cd5024241ef</td>\n",
       "      <td>Det går nok ikke lenge Før tullingene får gjor...</td>\n",
       "    </tr>\n",
       "    <tr>\n",
       "      <th>25584</th>\n",
       "      <td>637501219761818</td>\n",
       "      <td>637667176411889</td>\n",
       "      <td>4a5af9abb22604ac3f0d0452a8cb5c43</td>\n",
       "      <td>Mange idioter.</td>\n",
       "    </tr>\n",
       "    <tr>\n",
       "      <th>25585</th>\n",
       "      <td>637501219761818</td>\n",
       "      <td>637675799744360</td>\n",
       "      <td>ada0c11d65a977f981c9203638fe71f4</td>\n",
       "      <td>Ville ikkje tatt sonne bussar der sjøføren går...</td>\n",
       "    </tr>\n",
       "  </tbody>\n",
       "</table>\n",
       "<p>25582 rows × 4 columns</p>\n",
       "</div>"
      ],
      "text/plain": [
       "                post_id        comment_id                         author_id  \\\n",
       "0      1917260805119180  1917262545119006  b197158e1e9e67272ba8a797616514cc   \n",
       "1      1917260805119180  1917263215118939  b197158e1e9e67272ba8a797616514cc   \n",
       "2      1917260805119180  1917345138444080  77c2ce38e63a629436ac616aec515ad1   \n",
       "3      1917260805119180  1917438355101425  274b68192b056e268f128ff63bfcd4a4   \n",
       "4      1917260805119180  1917473961764531  274b68192b056e268f128ff63bfcd4a4   \n",
       "...                 ...               ...                               ...   \n",
       "25581   638243483020925   638315766347030  09aee10bce10c937d9e33452486f09c8   \n",
       "25582   638243483020925   638838086294798  afd2a1de527d52d1c5d31fea96b65fbc   \n",
       "25583   637654413079832   637701513075122  77b1fe423e999e92a12e4cd5024241ef   \n",
       "25584   637501219761818   637667176411889  4a5af9abb22604ac3f0d0452a8cb5c43   \n",
       "25585   637501219761818   637675799744360  ada0c11d65a977f981c9203638fe71f4   \n",
       "\n",
       "                                                    text  \n",
       "0      Det er helt korrekt dette... disse 2 hadde et ...  \n",
       "1      Men dette er det mange som enten ikke veit ell...  \n",
       "2      Islamsk nazist\\n\\nRopet til nazistisk islam (A...  \n",
       "3                                         Rebecca Romano  \n",
       "4                                         Rebecca Romano  \n",
       "...                                                  ...  \n",
       "25581  Dette bilde har ingenting m innlegget å gjøre....  \n",
       "25582                dette er en helt annen sak tror eg.  \n",
       "25583  Det går nok ikke lenge Før tullingene får gjor...  \n",
       "25584                                     Mange idioter.  \n",
       "25585  Ville ikkje tatt sonne bussar der sjøføren går...  \n",
       "\n",
       "[25582 rows x 4 columns]"
      ]
     },
     "execution_count": 16,
     "metadata": {},
     "output_type": "execute_result"
    }
   ],
   "source": [
    "# drop answer column\n",
    "unlabel = unlabel[['post_id', 'comment_id', 'author_id', 'text']]\n",
    "\n",
    "# drop null rows\n",
    "unlabel = unlabel.dropna()\n",
    "unlabel"
   ]
  },
  {
   "cell_type": "code",
   "execution_count": 17,
   "metadata": {
    "id": "iZFbigkVUVem"
   },
   "outputs": [],
   "source": [
    "def process_tweet(df):\n",
    "    '''\n",
    "    Input: \n",
    "        df: a dataframe containing a column 'text' of strings of tweets\n",
    "    Output:\n",
    "        df with a column 'tweets_clean'\n",
    "    \n",
    "    '''\n",
    "    #remove URL\n",
    "    df['tweet_proc'] = df['text'].str.replace(r'http(\\S)+', r'')\n",
    "    df['tweet_proc'] = df['tweet_proc'].str.replace(r'http ...', r'')\n",
    "    df['tweet_proc'] = df['tweet_proc'].str.replace(r'http', r'')\n",
    "    df[df['tweet_proc'].str.contains(r'http')]\n",
    "\n",
    "    # remove RT, @\n",
    "    df['tweet_proc'] = df['tweet_proc'].str.replace(r'(RT|rt)[ ]*@[ ]*[\\S]+',r'')\n",
    "    df[df['tweet_proc'].str.contains(r'RT[ ]?@')]\n",
    "    df['tweet_proc'] = df['tweet_proc'].str.replace(r'@[\\S]+',r'')\n",
    "\n",
    "    #remove &, < og >\n",
    "    df['tweet_proc'] = df['tweet_proc'].str.replace(r'&amp;?',r'og')\n",
    "    df['tweet_proc'] = df['tweet_proc'].str.replace(r'&lt;',r'<')\n",
    "    df['tweet_proc'] = df['tweet_proc'].str.replace(r'&gt;',r'>')\n",
    "\n",
    "    # remove extra space\n",
    "    df['tweet_proc'] = df['tweet_proc'].str.replace(r'[ ]{2, }',r' ')\n",
    "\n",
    "    # insert space between punctuation marks\n",
    "    df['tweet_proc'] = df['tweet_proc'].str.replace(r'([\\w\\d]+)([^\\w\\d ]+)', r'\\1 \\2')\n",
    "    df['tweet_proc'] = df['tweet_proc'].str.replace(r'([^\\w\\d ]+)([\\w\\d]+)', r'\\1 \\2')\n",
    "\n",
    "    # lower case and strip white spaces at both ends\n",
    "    df['tweet_proc'] = df['tweet_proc'].str.lower()\n",
    "    df['tweet_proc'] = df['tweet_proc'].str.strip()\n",
    "\n",
    "    return df"
   ]
  },
  {
   "cell_type": "markdown",
   "metadata": {
    "id": "TFO-urYBWiqy"
   },
   "source": [
    "# clean text"
   ]
  },
  {
   "cell_type": "code",
   "execution_count": 18,
   "metadata": {
    "id": "iPrmr9zFQTaD"
   },
   "outputs": [],
   "source": [
    "unlabel = process_tweet(unlabel)"
   ]
  },
  {
   "cell_type": "markdown",
   "metadata": {
    "id": "ZGkRvRBXWlWf"
   },
   "source": [
    "# convert emoji into words and remove non-alphabetic characters"
   ]
  },
  {
   "cell_type": "code",
   "execution_count": 19,
   "metadata": {
    "id": "eHhqLu6yDrR5"
   },
   "outputs": [],
   "source": [
    "unlabel['tweet_proc'] = unlabel['tweet_proc'].str.replace(':-\\)', 'smile')\n",
    "unlabel['tweet_proc'] = unlabel['tweet_proc'].str.replace(':-\\(', 'trist')\n",
    "unlabel['tweet_proc'] = unlabel['tweet_proc'].str.replace(r'[^a-zåøæ ]', '')"
   ]
  },
  {
   "cell_type": "markdown",
   "metadata": {
    "id": "S93DPGFeXD-3"
   },
   "source": [
    "# Remove stop words"
   ]
  },
  {
   "cell_type": "code",
   "execution_count": 20,
   "metadata": {
    "id": "3ZyriRCgUoA2"
   },
   "outputs": [],
   "source": [
    "stop_words = stopwords.words('norwegian')\n",
    "stop_words.remove('ikke')\n",
    "stop_words.remove('ikkje')\n",
    "\n",
    "unlabel['tweet_proc'] = unlabel['tweet_proc'].apply(lambda x:' '.join(w for w in x.split() if w not in stop_words))"
   ]
  },
  {
   "cell_type": "code",
   "execution_count": 21,
   "metadata": {
    "colab": {
     "base_uri": "https://localhost:8080/",
     "height": 419
    },
    "id": "Xd6uJJeeEM_7",
    "outputId": "c5012d07-6998-42fa-87fb-537dfe1cf4f6"
   },
   "outputs": [
    {
     "data": {
      "text/html": [
       "<div>\n",
       "<style scoped>\n",
       "    .dataframe tbody tr th:only-of-type {\n",
       "        vertical-align: middle;\n",
       "    }\n",
       "\n",
       "    .dataframe tbody tr th {\n",
       "        vertical-align: top;\n",
       "    }\n",
       "\n",
       "    .dataframe thead th {\n",
       "        text-align: right;\n",
       "    }\n",
       "</style>\n",
       "<table border=\"1\" class=\"dataframe\">\n",
       "  <thead>\n",
       "    <tr style=\"text-align: right;\">\n",
       "      <th></th>\n",
       "      <th>post_id</th>\n",
       "      <th>comment_id</th>\n",
       "      <th>author_id</th>\n",
       "      <th>text</th>\n",
       "      <th>tweet_proc</th>\n",
       "    </tr>\n",
       "  </thead>\n",
       "  <tbody>\n",
       "    <tr>\n",
       "      <th>0</th>\n",
       "      <td>1917260805119180</td>\n",
       "      <td>1917262545119006</td>\n",
       "      <td>b197158e1e9e67272ba8a797616514cc</td>\n",
       "      <td>Det er helt korrekt dette... disse 2 hadde et ...</td>\n",
       "      <td>helt korrekt samarbeid vennskap under krigen f...</td>\n",
       "    </tr>\n",
       "    <tr>\n",
       "      <th>1</th>\n",
       "      <td>1917260805119180</td>\n",
       "      <td>1917263215118939</td>\n",
       "      <td>b197158e1e9e67272ba8a797616514cc</td>\n",
       "      <td>Men dette er det mange som enten ikke veit ell...</td>\n",
       "      <td>enten ikke veit benekter alt verdt gjør mye</td>\n",
       "    </tr>\n",
       "    <tr>\n",
       "      <th>2</th>\n",
       "      <td>1917260805119180</td>\n",
       "      <td>1917345138444080</td>\n",
       "      <td>77c2ce38e63a629436ac616aec515ad1</td>\n",
       "      <td>Islamsk nazist\\n\\nRopet til nazistisk islam (A...</td>\n",
       "      <td>islamsk nazist ropet nazistisk islam allah akb...</td>\n",
       "    </tr>\n",
       "    <tr>\n",
       "      <th>3</th>\n",
       "      <td>1917260805119180</td>\n",
       "      <td>1917438355101425</td>\n",
       "      <td>274b68192b056e268f128ff63bfcd4a4</td>\n",
       "      <td>Rebecca Romano</td>\n",
       "      <td>rebecca romano</td>\n",
       "    </tr>\n",
       "    <tr>\n",
       "      <th>4</th>\n",
       "      <td>1917260805119180</td>\n",
       "      <td>1917473961764531</td>\n",
       "      <td>274b68192b056e268f128ff63bfcd4a4</td>\n",
       "      <td>Rebecca Romano</td>\n",
       "      <td>rebecca romano</td>\n",
       "    </tr>\n",
       "    <tr>\n",
       "      <th>...</th>\n",
       "      <td>...</td>\n",
       "      <td>...</td>\n",
       "      <td>...</td>\n",
       "      <td>...</td>\n",
       "      <td>...</td>\n",
       "    </tr>\n",
       "    <tr>\n",
       "      <th>25581</th>\n",
       "      <td>638243483020925</td>\n",
       "      <td>638315766347030</td>\n",
       "      <td>09aee10bce10c937d9e33452486f09c8</td>\n",
       "      <td>Dette bilde har ingenting m innlegget å gjøre....</td>\n",
       "      <td>bilde ingenting m innlegget gjøre gutten misha...</td>\n",
       "    </tr>\n",
       "    <tr>\n",
       "      <th>25582</th>\n",
       "      <td>638243483020925</td>\n",
       "      <td>638838086294798</td>\n",
       "      <td>afd2a1de527d52d1c5d31fea96b65fbc</td>\n",
       "      <td>dette er en helt annen sak tror eg.</td>\n",
       "      <td>helt annen sak tror</td>\n",
       "    </tr>\n",
       "    <tr>\n",
       "      <th>25583</th>\n",
       "      <td>637654413079832</td>\n",
       "      <td>637701513075122</td>\n",
       "      <td>77b1fe423e999e92a12e4cd5024241ef</td>\n",
       "      <td>Det går nok ikke lenge Før tullingene får gjor...</td>\n",
       "      <td>går nok ikke lenge tullingene får gjort riksda...</td>\n",
       "    </tr>\n",
       "    <tr>\n",
       "      <th>25584</th>\n",
       "      <td>637501219761818</td>\n",
       "      <td>637667176411889</td>\n",
       "      <td>4a5af9abb22604ac3f0d0452a8cb5c43</td>\n",
       "      <td>Mange idioter.</td>\n",
       "      <td>idioter</td>\n",
       "    </tr>\n",
       "    <tr>\n",
       "      <th>25585</th>\n",
       "      <td>637501219761818</td>\n",
       "      <td>637675799744360</td>\n",
       "      <td>ada0c11d65a977f981c9203638fe71f4</td>\n",
       "      <td>Ville ikkje tatt sonne bussar der sjøføren går...</td>\n",
       "      <td>tatt sonne bussar sjøføren går tilber jevelen ...</td>\n",
       "    </tr>\n",
       "  </tbody>\n",
       "</table>\n",
       "<p>25582 rows × 5 columns</p>\n",
       "</div>"
      ],
      "text/plain": [
       "                post_id        comment_id                         author_id  \\\n",
       "0      1917260805119180  1917262545119006  b197158e1e9e67272ba8a797616514cc   \n",
       "1      1917260805119180  1917263215118939  b197158e1e9e67272ba8a797616514cc   \n",
       "2      1917260805119180  1917345138444080  77c2ce38e63a629436ac616aec515ad1   \n",
       "3      1917260805119180  1917438355101425  274b68192b056e268f128ff63bfcd4a4   \n",
       "4      1917260805119180  1917473961764531  274b68192b056e268f128ff63bfcd4a4   \n",
       "...                 ...               ...                               ...   \n",
       "25581   638243483020925   638315766347030  09aee10bce10c937d9e33452486f09c8   \n",
       "25582   638243483020925   638838086294798  afd2a1de527d52d1c5d31fea96b65fbc   \n",
       "25583   637654413079832   637701513075122  77b1fe423e999e92a12e4cd5024241ef   \n",
       "25584   637501219761818   637667176411889  4a5af9abb22604ac3f0d0452a8cb5c43   \n",
       "25585   637501219761818   637675799744360  ada0c11d65a977f981c9203638fe71f4   \n",
       "\n",
       "                                                    text  \\\n",
       "0      Det er helt korrekt dette... disse 2 hadde et ...   \n",
       "1      Men dette er det mange som enten ikke veit ell...   \n",
       "2      Islamsk nazist\\n\\nRopet til nazistisk islam (A...   \n",
       "3                                         Rebecca Romano   \n",
       "4                                         Rebecca Romano   \n",
       "...                                                  ...   \n",
       "25581  Dette bilde har ingenting m innlegget å gjøre....   \n",
       "25582                dette er en helt annen sak tror eg.   \n",
       "25583  Det går nok ikke lenge Før tullingene får gjor...   \n",
       "25584                                     Mange idioter.   \n",
       "25585  Ville ikkje tatt sonne bussar der sjøføren går...   \n",
       "\n",
       "                                              tweet_proc  \n",
       "0      helt korrekt samarbeid vennskap under krigen f...  \n",
       "1            enten ikke veit benekter alt verdt gjør mye  \n",
       "2      islamsk nazist ropet nazistisk islam allah akb...  \n",
       "3                                         rebecca romano  \n",
       "4                                         rebecca romano  \n",
       "...                                                  ...  \n",
       "25581  bilde ingenting m innlegget gjøre gutten misha...  \n",
       "25582                                helt annen sak tror  \n",
       "25583  går nok ikke lenge tullingene får gjort riksda...  \n",
       "25584                                            idioter  \n",
       "25585  tatt sonne bussar sjøføren går tilber jevelen ...  \n",
       "\n",
       "[25582 rows x 5 columns]"
      ]
     },
     "execution_count": 21,
     "metadata": {},
     "output_type": "execute_result"
    }
   ],
   "source": [
    "unlabel"
   ]
  },
  {
   "cell_type": "markdown",
   "metadata": {
    "id": "ONPiCHCcXHKT"
   },
   "source": [
    "# load trained tokanizer"
   ]
  },
  {
   "cell_type": "code",
   "execution_count": 22,
   "metadata": {
    "colab": {
     "base_uri": "https://localhost:8080/"
    },
    "id": "s43yRj-MKlI_",
    "outputId": "2f7d0611-6756-4f16-a4d4-388400ad790d"
   },
   "outputs": [
    {
     "name": "stdout",
     "output_type": "stream",
     "text": [
      "vocab_size:  11852\n"
     ]
    }
   ],
   "source": [
    "with open(base +'tokenizer/tokenizer.json_16102021_v1') as f:\n",
    "    data = json.load(f)\n",
    "    tokenizer_trained = tokenizer_from_json(data)\n",
    "\n",
    "    vocab_size = len(tokenizer_trained.word_index) + 1  # Adding 1 because of reserved 0 index\n",
    "print('vocab_size: ', vocab_size)"
   ]
  },
  {
   "cell_type": "markdown",
   "metadata": {
    "id": "CFbl4jpeXN0v"
   },
   "source": [
    "# convert words into sequences"
   ]
  },
  {
   "cell_type": "code",
   "execution_count": 23,
   "metadata": {
    "id": "t40VWNxsF0eH"
   },
   "outputs": [],
   "source": [
    "unseen = tokenizer_trained.texts_to_sequences(unlabel['tweet_proc'].values)\n",
    "unseen = pad_sequences(unseen, maxlen=128, padding='post', truncating='post')"
   ]
  },
  {
   "cell_type": "markdown",
   "metadata": {
    "id": "O3dSOCvYXb4f"
   },
   "source": [
    "# load trained model"
   ]
  },
  {
   "cell_type": "code",
   "execution_count": 24,
   "metadata": {
    "id": "if4XzkWTEO_z"
   },
   "outputs": [],
   "source": [
    " model = tf.keras.models.load_model(base+'model/')"
   ]
  },
  {
   "cell_type": "markdown",
   "metadata": {
    "id": "slwR44u4Xeap"
   },
   "source": [
    "# predict result of unseen data using trained model"
   ]
  },
  {
   "cell_type": "code",
   "execution_count": 25,
   "metadata": {
    "colab": {
     "base_uri": "https://localhost:8080/",
     "height": 419
    },
    "id": "CT1Gx5mNE-7q",
    "outputId": "4aa6c911-ced8-4b27-95b0-772a66b1fcca"
   },
   "outputs": [
    {
     "data": {
      "text/html": [
       "<div>\n",
       "<style scoped>\n",
       "    .dataframe tbody tr th:only-of-type {\n",
       "        vertical-align: middle;\n",
       "    }\n",
       "\n",
       "    .dataframe tbody tr th {\n",
       "        vertical-align: top;\n",
       "    }\n",
       "\n",
       "    .dataframe thead th {\n",
       "        text-align: right;\n",
       "    }\n",
       "</style>\n",
       "<table border=\"1\" class=\"dataframe\">\n",
       "  <thead>\n",
       "    <tr style=\"text-align: right;\">\n",
       "      <th></th>\n",
       "      <th>post_id</th>\n",
       "      <th>comment_id</th>\n",
       "      <th>author_id</th>\n",
       "      <th>text</th>\n",
       "      <th>tweet_proc</th>\n",
       "      <th>Result</th>\n",
       "    </tr>\n",
       "  </thead>\n",
       "  <tbody>\n",
       "    <tr>\n",
       "      <th>0</th>\n",
       "      <td>1917260805119180</td>\n",
       "      <td>1917262545119006</td>\n",
       "      <td>b197158e1e9e67272ba8a797616514cc</td>\n",
       "      <td>Det er helt korrekt dette... disse 2 hadde et ...</td>\n",
       "      <td>helt korrekt samarbeid vennskap under krigen f...</td>\n",
       "      <td>1</td>\n",
       "    </tr>\n",
       "    <tr>\n",
       "      <th>1</th>\n",
       "      <td>1917260805119180</td>\n",
       "      <td>1917263215118939</td>\n",
       "      <td>b197158e1e9e67272ba8a797616514cc</td>\n",
       "      <td>Men dette er det mange som enten ikke veit ell...</td>\n",
       "      <td>enten ikke veit benekter alt verdt gjør mye</td>\n",
       "      <td>1</td>\n",
       "    </tr>\n",
       "    <tr>\n",
       "      <th>2</th>\n",
       "      <td>1917260805119180</td>\n",
       "      <td>1917345138444080</td>\n",
       "      <td>77c2ce38e63a629436ac616aec515ad1</td>\n",
       "      <td>Islamsk nazist\\n\\nRopet til nazistisk islam (A...</td>\n",
       "      <td>islamsk nazist ropet nazistisk islam allah akb...</td>\n",
       "      <td>0</td>\n",
       "    </tr>\n",
       "    <tr>\n",
       "      <th>3</th>\n",
       "      <td>1917260805119180</td>\n",
       "      <td>1917438355101425</td>\n",
       "      <td>274b68192b056e268f128ff63bfcd4a4</td>\n",
       "      <td>Rebecca Romano</td>\n",
       "      <td>rebecca romano</td>\n",
       "      <td>1</td>\n",
       "    </tr>\n",
       "    <tr>\n",
       "      <th>4</th>\n",
       "      <td>1917260805119180</td>\n",
       "      <td>1917473961764531</td>\n",
       "      <td>274b68192b056e268f128ff63bfcd4a4</td>\n",
       "      <td>Rebecca Romano</td>\n",
       "      <td>rebecca romano</td>\n",
       "      <td>1</td>\n",
       "    </tr>\n",
       "    <tr>\n",
       "      <th>...</th>\n",
       "      <td>...</td>\n",
       "      <td>...</td>\n",
       "      <td>...</td>\n",
       "      <td>...</td>\n",
       "      <td>...</td>\n",
       "      <td>...</td>\n",
       "    </tr>\n",
       "    <tr>\n",
       "      <th>25581</th>\n",
       "      <td>638243483020925</td>\n",
       "      <td>638315766347030</td>\n",
       "      <td>09aee10bce10c937d9e33452486f09c8</td>\n",
       "      <td>Dette bilde har ingenting m innlegget å gjøre....</td>\n",
       "      <td>bilde ingenting m innlegget gjøre gutten misha...</td>\n",
       "      <td>1</td>\n",
       "    </tr>\n",
       "    <tr>\n",
       "      <th>25582</th>\n",
       "      <td>638243483020925</td>\n",
       "      <td>638838086294798</td>\n",
       "      <td>afd2a1de527d52d1c5d31fea96b65fbc</td>\n",
       "      <td>dette er en helt annen sak tror eg.</td>\n",
       "      <td>helt annen sak tror</td>\n",
       "      <td>1</td>\n",
       "    </tr>\n",
       "    <tr>\n",
       "      <th>25583</th>\n",
       "      <td>637654413079832</td>\n",
       "      <td>637701513075122</td>\n",
       "      <td>77b1fe423e999e92a12e4cd5024241ef</td>\n",
       "      <td>Det går nok ikke lenge Før tullingene får gjor...</td>\n",
       "      <td>går nok ikke lenge tullingene får gjort riksda...</td>\n",
       "      <td>1</td>\n",
       "    </tr>\n",
       "    <tr>\n",
       "      <th>25584</th>\n",
       "      <td>637501219761818</td>\n",
       "      <td>637667176411889</td>\n",
       "      <td>4a5af9abb22604ac3f0d0452a8cb5c43</td>\n",
       "      <td>Mange idioter.</td>\n",
       "      <td>idioter</td>\n",
       "      <td>1</td>\n",
       "    </tr>\n",
       "    <tr>\n",
       "      <th>25585</th>\n",
       "      <td>637501219761818</td>\n",
       "      <td>637675799744360</td>\n",
       "      <td>ada0c11d65a977f981c9203638fe71f4</td>\n",
       "      <td>Ville ikkje tatt sonne bussar der sjøføren går...</td>\n",
       "      <td>tatt sonne bussar sjøføren går tilber jevelen ...</td>\n",
       "      <td>1</td>\n",
       "    </tr>\n",
       "  </tbody>\n",
       "</table>\n",
       "<p>25582 rows × 6 columns</p>\n",
       "</div>"
      ],
      "text/plain": [
       "                post_id        comment_id                         author_id  \\\n",
       "0      1917260805119180  1917262545119006  b197158e1e9e67272ba8a797616514cc   \n",
       "1      1917260805119180  1917263215118939  b197158e1e9e67272ba8a797616514cc   \n",
       "2      1917260805119180  1917345138444080  77c2ce38e63a629436ac616aec515ad1   \n",
       "3      1917260805119180  1917438355101425  274b68192b056e268f128ff63bfcd4a4   \n",
       "4      1917260805119180  1917473961764531  274b68192b056e268f128ff63bfcd4a4   \n",
       "...                 ...               ...                               ...   \n",
       "25581   638243483020925   638315766347030  09aee10bce10c937d9e33452486f09c8   \n",
       "25582   638243483020925   638838086294798  afd2a1de527d52d1c5d31fea96b65fbc   \n",
       "25583   637654413079832   637701513075122  77b1fe423e999e92a12e4cd5024241ef   \n",
       "25584   637501219761818   637667176411889  4a5af9abb22604ac3f0d0452a8cb5c43   \n",
       "25585   637501219761818   637675799744360  ada0c11d65a977f981c9203638fe71f4   \n",
       "\n",
       "                                                    text  \\\n",
       "0      Det er helt korrekt dette... disse 2 hadde et ...   \n",
       "1      Men dette er det mange som enten ikke veit ell...   \n",
       "2      Islamsk nazist\\n\\nRopet til nazistisk islam (A...   \n",
       "3                                         Rebecca Romano   \n",
       "4                                         Rebecca Romano   \n",
       "...                                                  ...   \n",
       "25581  Dette bilde har ingenting m innlegget å gjøre....   \n",
       "25582                dette er en helt annen sak tror eg.   \n",
       "25583  Det går nok ikke lenge Før tullingene får gjor...   \n",
       "25584                                     Mange idioter.   \n",
       "25585  Ville ikkje tatt sonne bussar der sjøføren går...   \n",
       "\n",
       "                                              tweet_proc  Result  \n",
       "0      helt korrekt samarbeid vennskap under krigen f...       1  \n",
       "1            enten ikke veit benekter alt verdt gjør mye       1  \n",
       "2      islamsk nazist ropet nazistisk islam allah akb...       0  \n",
       "3                                         rebecca romano       1  \n",
       "4                                         rebecca romano       1  \n",
       "...                                                  ...     ...  \n",
       "25581  bilde ingenting m innlegget gjøre gutten misha...       1  \n",
       "25582                                helt annen sak tror       1  \n",
       "25583  går nok ikke lenge tullingene får gjort riksda...       1  \n",
       "25584                                            idioter       1  \n",
       "25585  tatt sonne bussar sjøføren går tilber jevelen ...       1  \n",
       "\n",
       "[25582 rows x 6 columns]"
      ]
     },
     "execution_count": 25,
     "metadata": {},
     "output_type": "execute_result"
    }
   ],
   "source": [
    "yhat = model.predict(unseen)\n",
    "yhat = [1 if y>0.55 else 0 for y in yhat]\n",
    "unlabel['Result'] = yhat\n",
    "unlabel"
   ]
  },
  {
   "cell_type": "code",
   "execution_count": 26,
   "metadata": {
    "colab": {
     "base_uri": "https://localhost:8080/"
    },
    "id": "EySNAawJFXQQ",
    "outputId": "7a38035f-e38a-474d-a8f8-4eb6c516d497"
   },
   "outputs": [
    {
     "data": {
      "text/plain": [
       "1    22933\n",
       "0     2649\n",
       "Name: Result, dtype: int64"
      ]
     },
     "execution_count": 26,
     "metadata": {},
     "output_type": "execute_result"
    }
   ],
   "source": [
    "# number of prediction belongs to each class\n",
    "unlabel['Result'].value_counts()"
   ]
  },
  {
   "cell_type": "code",
   "execution_count": null,
   "metadata": {
    "id": "DqfDJ0FMGKkT"
   },
   "outputs": [],
   "source": [
    "# save the result \n",
    "unlabel.to_csv(base+'data/comments_SIAN_post_id_with_results_with_more_data2-09-0.7967.csv', index=False)"
   ]
  }
 ],
 "metadata": {
  "colab": {
   "collapsed_sections": [],
   "name": "unseen data classification.ipynb",
   "provenance": []
  },
  "kernelspec": {
   "display_name": "Python 3",
   "language": "python",
   "name": "python3"
  },
  "language_info": {
   "codemirror_mode": {
    "name": "ipython",
    "version": 3
   },
   "file_extension": ".py",
   "mimetype": "text/x-python",
   "name": "python",
   "nbconvert_exporter": "python",
   "pygments_lexer": "ipython3",
   "version": "3.8.0"
  }
 },
 "nbformat": 4,
 "nbformat_minor": 1
}
